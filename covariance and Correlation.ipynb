{
 "cells": [
  {
   "cell_type": "code",
   "execution_count": 34,
   "metadata": {},
   "outputs": [
    {
     "data": {
      "text/html": [
       "<div>\n",
       "<style scoped>\n",
       "    .dataframe tbody tr th:only-of-type {\n",
       "        vertical-align: middle;\n",
       "    }\n",
       "\n",
       "    .dataframe tbody tr th {\n",
       "        vertical-align: top;\n",
       "    }\n",
       "\n",
       "    .dataframe thead th {\n",
       "        text-align: right;\n",
       "    }\n",
       "</style>\n",
       "<table border=\"1\" class=\"dataframe\">\n",
       "  <thead>\n",
       "    <tr style=\"text-align: right;\">\n",
       "      <th></th>\n",
       "      <th>^CNXIT</th>\n",
       "      <th>^IXIC</th>\n",
       "      <th>^BSESN</th>\n",
       "      <th>^GDAXI</th>\n",
       "    </tr>\n",
       "    <tr>\n",
       "      <th>Date</th>\n",
       "      <th></th>\n",
       "      <th></th>\n",
       "      <th></th>\n",
       "      <th></th>\n",
       "    </tr>\n",
       "  </thead>\n",
       "  <tbody>\n",
       "    <tr>\n",
       "      <th>2015-01-02</th>\n",
       "      <td>NaN</td>\n",
       "      <td>NaN</td>\n",
       "      <td>NaN</td>\n",
       "      <td>NaN</td>\n",
       "    </tr>\n",
       "    <tr>\n",
       "      <th>2015-01-05</th>\n",
       "      <td>-0.010924</td>\n",
       "      <td>-0.015831</td>\n",
       "      <td>-0.001636</td>\n",
       "      <td>-0.030314</td>\n",
       "    </tr>\n",
       "    <tr>\n",
       "      <th>2015-01-06</th>\n",
       "      <td>-0.025996</td>\n",
       "      <td>-0.012943</td>\n",
       "      <td>-0.031185</td>\n",
       "      <td>-0.000370</td>\n",
       "    </tr>\n",
       "    <tr>\n",
       "      <th>2015-01-07</th>\n",
       "      <td>-0.004014</td>\n",
       "      <td>0.012491</td>\n",
       "      <td>-0.002918</td>\n",
       "      <td>0.005111</td>\n",
       "    </tr>\n",
       "    <tr>\n",
       "      <th>2015-01-08</th>\n",
       "      <td>0.009314</td>\n",
       "      <td>0.018265</td>\n",
       "      <td>0.013506</td>\n",
       "      <td>0.033009</td>\n",
       "    </tr>\n",
       "    <tr>\n",
       "      <th>...</th>\n",
       "      <td>...</td>\n",
       "      <td>...</td>\n",
       "      <td>...</td>\n",
       "      <td>...</td>\n",
       "    </tr>\n",
       "    <tr>\n",
       "      <th>2022-10-06</th>\n",
       "      <td>0.015582</td>\n",
       "      <td>-0.009268</td>\n",
       "      <td>0.002694</td>\n",
       "      <td>-0.015887</td>\n",
       "    </tr>\n",
       "    <tr>\n",
       "      <th>2022-10-07</th>\n",
       "      <td>-0.007012</td>\n",
       "      <td>-0.038752</td>\n",
       "      <td>-0.000529</td>\n",
       "      <td>-0.015987</td>\n",
       "    </tr>\n",
       "    <tr>\n",
       "      <th>2022-10-10</th>\n",
       "      <td>0.010545</td>\n",
       "      <td>-0.010409</td>\n",
       "      <td>-0.003446</td>\n",
       "      <td>-0.000005</td>\n",
       "    </tr>\n",
       "    <tr>\n",
       "      <th>2022-10-11</th>\n",
       "      <td>-0.020113</td>\n",
       "      <td>-0.011056</td>\n",
       "      <td>-0.014657</td>\n",
       "      <td>-0.004302</td>\n",
       "    </tr>\n",
       "    <tr>\n",
       "      <th>2022-10-12</th>\n",
       "      <td>0.008163</td>\n",
       "      <td>-0.000490</td>\n",
       "      <td>0.008340</td>\n",
       "      <td>-0.003935</td>\n",
       "    </tr>\n",
       "  </tbody>\n",
       "</table>\n",
       "<p>1627 rows × 4 columns</p>\n",
       "</div>"
      ],
      "text/plain": [
       "              ^CNXIT     ^IXIC    ^BSESN    ^GDAXI\n",
       "Date                                              \n",
       "2015-01-02       NaN       NaN       NaN       NaN\n",
       "2015-01-05 -0.010924 -0.015831 -0.001636 -0.030314\n",
       "2015-01-06 -0.025996 -0.012943 -0.031185 -0.000370\n",
       "2015-01-07 -0.004014  0.012491 -0.002918  0.005111\n",
       "2015-01-08  0.009314  0.018265  0.013506  0.033009\n",
       "...              ...       ...       ...       ...\n",
       "2022-10-06  0.015582 -0.009268  0.002694 -0.015887\n",
       "2022-10-07 -0.007012 -0.038752 -0.000529 -0.015987\n",
       "2022-10-10  0.010545 -0.010409 -0.003446 -0.000005\n",
       "2022-10-11 -0.020113 -0.011056 -0.014657 -0.004302\n",
       "2022-10-12  0.008163 -0.000490  0.008340 -0.003935\n",
       "\n",
       "[1627 rows x 4 columns]"
      ]
     },
     "execution_count": 34,
     "metadata": {},
     "output_type": "execute_result"
    }
   ],
   "source": [
    "import numpy as np\n",
    "import pandas as pd\n",
    "from pandas_datareader import data as wb\n",
    "import matplotlib.pyplot as plt\n",
    "\n",
    "tickers=['^CNXIT','^IXIC','^BSESN','^GDAXI']\n",
    "mydata=pd.DataFrame()\n",
    "for t in tickers:\n",
    "    mydata[t]=wb.DataReader(t,data_source='yahoo',start='2015-1-1')['Adj Close']\n",
    "\n",
    "sec_return=np.log(mydata/mydata.shift(1))\n",
    "sec_return"
   ]
  },
  {
   "cell_type": "markdown",
   "metadata": {},
   "source": [
    "CALCULATING COVARIANCE AND CORRELATION"
   ]
  },
  {
   "cell_type": "code",
   "execution_count": 35,
   "metadata": {},
   "outputs": [
    {
     "name": "stdout",
     "output_type": "stream",
     "text": [
      "0.007468299605143328\n",
      "0.00022659993418975113\n",
      "0.00014187741541303006\n",
      "0.00019153335060106505\n"
     ]
    }
   ],
   "source": [
    "PG_var=sec_return['^CNXIT'].var()\n",
    "print(PG_var)\n",
    "\n",
    "BEI_var=sec_return['^IXIC'].var()\n",
    "print(BEI_var)\n",
    "\n",
    "AAPL_var=sec_return['^BSESN'].var()\n",
    "print(AAPL_var)\n",
    "\n",
    "MSFT_var=sec_return['^GDAXI'].var()\n",
    "print(MSFT_var)\n",
    "\n"
   ]
  },
  {
   "cell_type": "markdown",
   "metadata": {},
   "source": [
    "Annualised covariance"
   ]
  },
  {
   "cell_type": "code",
   "execution_count": 36,
   "metadata": {},
   "outputs": [
    {
     "name": "stdout",
     "output_type": "stream",
     "text": [
      "1.867074901285832\n",
      "0.056649983547437784\n",
      "0.035469353853257515\n",
      "0.04788333765026626\n"
     ]
    }
   ],
   "source": [
    "PG_var_a=sec_return['^CNXIT'].var()*250\n",
    "print(PG_var_a)\n",
    "\n",
    "BEI_var_a=sec_return['^IXIC'].var()*250\n",
    "print(BEI_var_a)\n",
    "\n",
    "AAPL_var_a=sec_return['^BSESN'].var()*250\n",
    "print(AAPL_var_a)\n",
    "\n",
    "MSFT_var_a=sec_return['^GDAXI'].var()*250\n",
    "print(MSFT_var_a)"
   ]
  },
  {
   "cell_type": "markdown",
   "metadata": {},
   "source": [
    "COVARIANCE MATRIX"
   ]
  },
  {
   "cell_type": "code",
   "execution_count": 37,
   "metadata": {},
   "outputs": [
    {
     "name": "stdout",
     "output_type": "stream",
     "text": [
      "          ^CNXIT     ^IXIC    ^BSESN    ^GDAXI\n",
      "^CNXIT  0.007468  0.000381  0.000255  0.000403\n",
      "^IXIC   0.000381  0.000227  0.000057  0.000121\n",
      "^BSESN  0.000255  0.000057  0.000142  0.000081\n",
      "^GDAXI  0.000403  0.000121  0.000081  0.000192\n",
      "          ^CNXIT     ^IXIC    ^BSESN    ^GDAXI\n",
      "^CNXIT  1.867075  0.095197  0.063715  0.100705\n",
      "^IXIC   0.095197  0.056650  0.014254  0.030271\n",
      "^BSESN  0.063715  0.014254  0.035469  0.020189\n",
      "^GDAXI  0.100705  0.030271  0.020189  0.047883\n"
     ]
    }
   ],
   "source": [
    "cov_matrix= sec_return.cov()\n",
    "print(cov_matrix)\n",
    "\n",
    "cov_matrix_a= sec_return.cov()*250\n",
    "print(cov_matrix_a)\n"
   ]
  },
  {
   "cell_type": "markdown",
   "metadata": {},
   "source": [
    "CORRELATION MATRIX"
   ]
  },
  {
   "cell_type": "code",
   "execution_count": 38,
   "metadata": {},
   "outputs": [
    {
     "data": {
      "text/html": [
       "<div>\n",
       "<style scoped>\n",
       "    .dataframe tbody tr th:only-of-type {\n",
       "        vertical-align: middle;\n",
       "    }\n",
       "\n",
       "    .dataframe tbody tr th {\n",
       "        vertical-align: top;\n",
       "    }\n",
       "\n",
       "    .dataframe thead th {\n",
       "        text-align: right;\n",
       "    }\n",
       "</style>\n",
       "<table border=\"1\" class=\"dataframe\">\n",
       "  <thead>\n",
       "    <tr style=\"text-align: right;\">\n",
       "      <th></th>\n",
       "      <th>^CNXIT</th>\n",
       "      <th>^IXIC</th>\n",
       "      <th>^BSESN</th>\n",
       "      <th>^GDAXI</th>\n",
       "    </tr>\n",
       "  </thead>\n",
       "  <tbody>\n",
       "    <tr>\n",
       "      <th>^CNXIT</th>\n",
       "      <td>1.000000</td>\n",
       "      <td>0.286274</td>\n",
       "      <td>0.247439</td>\n",
       "      <td>0.331842</td>\n",
       "    </tr>\n",
       "    <tr>\n",
       "      <th>^IXIC</th>\n",
       "      <td>0.286274</td>\n",
       "      <td>1.000000</td>\n",
       "      <td>0.314437</td>\n",
       "      <td>0.573710</td>\n",
       "    </tr>\n",
       "    <tr>\n",
       "      <th>^BSESN</th>\n",
       "      <td>0.247439</td>\n",
       "      <td>0.314437</td>\n",
       "      <td>1.000000</td>\n",
       "      <td>0.488382</td>\n",
       "    </tr>\n",
       "    <tr>\n",
       "      <th>^GDAXI</th>\n",
       "      <td>0.331842</td>\n",
       "      <td>0.573710</td>\n",
       "      <td>0.488382</td>\n",
       "      <td>1.000000</td>\n",
       "    </tr>\n",
       "  </tbody>\n",
       "</table>\n",
       "</div>"
      ],
      "text/plain": [
       "          ^CNXIT     ^IXIC    ^BSESN    ^GDAXI\n",
       "^CNXIT  1.000000  0.286274  0.247439  0.331842\n",
       "^IXIC   0.286274  1.000000  0.314437  0.573710\n",
       "^BSESN  0.247439  0.314437  1.000000  0.488382\n",
       "^GDAXI  0.331842  0.573710  0.488382  1.000000"
      ]
     },
     "execution_count": 38,
     "metadata": {},
     "output_type": "execute_result"
    }
   ],
   "source": [
    "Corr_matrix=sec_return.corr()\n",
    "Corr_matrix"
   ]
  }
 ],
 "metadata": {
  "kernelspec": {
   "display_name": "Python 3.9.12 ('base')",
   "language": "python",
   "name": "python3"
  },
  "language_info": {
   "codemirror_mode": {
    "name": "ipython",
    "version": 3
   },
   "file_extension": ".py",
   "mimetype": "text/x-python",
   "name": "python",
   "nbconvert_exporter": "python",
   "pygments_lexer": "ipython3",
   "version": "3.9.12"
  },
  "orig_nbformat": 4,
  "vscode": {
   "interpreter": {
    "hash": "745acbd60b3d3a97c5945352b8ea4157d78b838f777f5ff9015d2ad09d6a6d28"
   }
  }
 },
 "nbformat": 4,
 "nbformat_minor": 2
}
