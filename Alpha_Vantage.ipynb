{
 "cells": [
  {
   "cell_type": "code",
   "execution_count": null,
   "metadata": {},
   "outputs": [],
   "source": [
    "import numpy as np\n",
    "import pandas as pd\n",
    "from pandas_datareader import data as wb\n",
    "from alpha_vantage.timeseries import TimeSeries\n",
    "\n",
    "ts=TimeSeries(key='MNB2QNDXFV1VUP45', output_format='pandas')\n",
    "PG_AV, metadata = ts.get_daily_adjusted('PG',outputsize='full')\n",
    "PG_AV"
   ]
  },
  {
   "cell_type": "code",
   "execution_count": null,
   "metadata": {},
   "outputs": [],
   "source": [
    "from alpha_vantage.timeseries import TimeSeries\n",
    "ts = TimeSeries(key = 'MNB2QNDXFV1VUP45', output_format='pandas')\n",
    "AAPL_av, metadata = ts.get_daily_adjusted('AAPL', outputsize='full')\n",
    "AAPL_av"
   ]
  },
  {
   "cell_type": "code",
   "execution_count": null,
   "metadata": {},
   "outputs": [],
   "source": [
    "from alpha_vantage.timeseries import TimeSeries\n",
    "ts = TimeSeries(key = 'MNB2QNDXFV1VUP45', output_format='pandas')\n",
    "GSPC_av, metadata = ts.get_daily_adjusted('^GSPC', outputsize='full')\n",
    "GSPC_av"
   ]
  },
  {
   "cell_type": "code",
   "execution_count": null,
   "metadata": {},
   "outputs": [],
   "source": [
    "pfolio_av = pd.concat([PG_AV['5. adjusted close'], GSPC_av['5. adjusted close']], axis = 1)\n",
    "pfolio_av\n",
    "pfolio_av.columns = ['PG', 'GSPC']\n",
    "pfolio_av"
   ]
  }
 ],
 "metadata": {
  "kernelspec": {
   "display_name": "Python 3.9.12 ('base')",
   "language": "python",
   "name": "python3"
  },
  "language_info": {
   "codemirror_mode": {
    "name": "ipython",
    "version": 3
   },
   "file_extension": ".py",
   "mimetype": "text/x-python",
   "name": "python",
   "nbconvert_exporter": "python",
   "pygments_lexer": "ipython3",
   "version": "3.9.12"
  },
  "orig_nbformat": 4,
  "vscode": {
   "interpreter": {
    "hash": "745acbd60b3d3a97c5945352b8ea4157d78b838f777f5ff9015d2ad09d6a6d28"
   }
  }
 },
 "nbformat": 4,
 "nbformat_minor": 2
}
