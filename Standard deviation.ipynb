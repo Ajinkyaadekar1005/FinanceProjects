{
 "cells": [
  {
   "cell_type": "code",
   "execution_count": 8,
   "metadata": {},
   "outputs": [
    {
     "name": "stdout",
     "output_type": "stream",
     "text": [
      "<class 'pandas.core.frame.DataFrame'>\n",
      "DatetimeIndex: 439 entries, 2021-01-01 to 2022-10-10\n",
      "Data columns (total 1 columns):\n",
      " #   Column   Non-Null Count  Dtype  \n",
      "---  ------   --------------  -----  \n",
      " 0   HFCL.BO  439 non-null    float64\n",
      "dtypes: float64(1)\n",
      "memory usage: 6.9 KB\n",
      "<class 'pandas.core.frame.DataFrame'>\n",
      "DatetimeIndex: 439 entries, 2021-01-01 to 2022-10-10\n",
      "Data columns (total 2 columns):\n",
      " #   Column      Non-Null Count  Dtype  \n",
      "---  ------      --------------  -----  \n",
      " 0   HFCL.BO     439 non-null    float64\n",
      " 1   MSTCLTD.NS  439 non-null    float64\n",
      "dtypes: float64(2)\n",
      "memory usage: 10.3 KB\n",
      "<class 'pandas.core.frame.DataFrame'>\n",
      "DatetimeIndex: 439 entries, 2021-01-01 to 2022-10-10\n",
      "Data columns (total 3 columns):\n",
      " #   Column      Non-Null Count  Dtype  \n",
      "---  ------      --------------  -----  \n",
      " 0   HFCL.BO     439 non-null    float64\n",
      " 1   MSTCLTD.NS  439 non-null    float64\n",
      " 2   SJVN.BO     439 non-null    float64\n",
      "dtypes: float64(3)\n",
      "memory usage: 13.7 KB\n",
      "<class 'pandas.core.frame.DataFrame'>\n",
      "DatetimeIndex: 439 entries, 2021-01-01 to 2022-10-10\n",
      "Data columns (total 4 columns):\n",
      " #   Column      Non-Null Count  Dtype  \n",
      "---  ------      --------------  -----  \n",
      " 0   HFCL.BO     439 non-null    float64\n",
      " 1   MSTCLTD.NS  439 non-null    float64\n",
      " 2   SJVN.BO     439 non-null    float64\n",
      " 3   SUBEX.BO    439 non-null    float64\n",
      "dtypes: float64(4)\n",
      "memory usage: 17.1 KB\n"
     ]
    }
   ],
   "source": [
    "import numpy as np\n",
    "import pandas as pd\n",
    "from pandas_datareader import data as wb\n",
    "import matplotlib.pyplot as plt\n",
    "\n",
    "tickers=['HFCL.BO', 'MSTCLTD.NS', 'SJVN.BO', 'SUBEX.BO']\n",
    "sec_data=pd.DataFrame()\n",
    "for t in tickers:\n",
    "    sec_data[t]=wb.DataReader(t,data_source='yahoo',start='2021-1-1')['Adj Close']\n",
    "    sec_data.info()\n",
    "    "
   ]
  },
  {
   "cell_type": "code",
   "execution_count": 9,
   "metadata": {},
   "outputs": [
    {
     "data": {
      "text/plain": [
       "HFCL.BO        25.785965\n",
       "MSTCLTD.NS    166.517487\n",
       "SJVN.BO        21.926914\n",
       "SUBEX.BO       28.144871\n",
       "Name: 2021-01-01 00:00:00, dtype: float64"
      ]
     },
     "execution_count": 9,
     "metadata": {},
     "output_type": "execute_result"
    }
   ],
   "source": [
    "sec_data.iloc[0]"
   ]
  },
  {
   "cell_type": "code",
   "execution_count": 11,
   "metadata": {},
   "outputs": [
    {
     "data": {
      "text/html": [
       "<div>\n",
       "<style scoped>\n",
       "    .dataframe tbody tr th:only-of-type {\n",
       "        vertical-align: middle;\n",
       "    }\n",
       "\n",
       "    .dataframe tbody tr th {\n",
       "        vertical-align: top;\n",
       "    }\n",
       "\n",
       "    .dataframe thead th {\n",
       "        text-align: right;\n",
       "    }\n",
       "</style>\n",
       "<table border=\"1\" class=\"dataframe\">\n",
       "  <thead>\n",
       "    <tr style=\"text-align: right;\">\n",
       "      <th></th>\n",
       "      <th>HFCL.BO</th>\n",
       "      <th>MSTCLTD.NS</th>\n",
       "      <th>SJVN.BO</th>\n",
       "      <th>SUBEX.BO</th>\n",
       "    </tr>\n",
       "    <tr>\n",
       "      <th>Date</th>\n",
       "      <th></th>\n",
       "      <th></th>\n",
       "      <th></th>\n",
       "      <th></th>\n",
       "    </tr>\n",
       "  </thead>\n",
       "  <tbody>\n",
       "    <tr>\n",
       "      <th>2021-01-01</th>\n",
       "      <td>NaN</td>\n",
       "      <td>NaN</td>\n",
       "      <td>NaN</td>\n",
       "      <td>NaN</td>\n",
       "    </tr>\n",
       "    <tr>\n",
       "      <th>2021-01-04</th>\n",
       "      <td>0.037883</td>\n",
       "      <td>-0.005125</td>\n",
       "      <td>0.017735</td>\n",
       "      <td>-0.005213</td>\n",
       "    </tr>\n",
       "    <tr>\n",
       "      <th>2021-01-05</th>\n",
       "      <td>0.007407</td>\n",
       "      <td>-0.020768</td>\n",
       "      <td>0.005842</td>\n",
       "      <td>-0.003490</td>\n",
       "    </tr>\n",
       "    <tr>\n",
       "      <th>2021-01-06</th>\n",
       "      <td>-0.012999</td>\n",
       "      <td>0.068973</td>\n",
       "      <td>-0.003891</td>\n",
       "      <td>-0.033781</td>\n",
       "    </tr>\n",
       "    <tr>\n",
       "      <th>2021-01-07</th>\n",
       "      <td>0.029468</td>\n",
       "      <td>-0.015075</td>\n",
       "      <td>0.005831</td>\n",
       "      <td>-0.020092</td>\n",
       "    </tr>\n",
       "    <tr>\n",
       "      <th>...</th>\n",
       "      <td>...</td>\n",
       "      <td>...</td>\n",
       "      <td>...</td>\n",
       "      <td>...</td>\n",
       "    </tr>\n",
       "    <tr>\n",
       "      <th>2022-10-03</th>\n",
       "      <td>0.014320</td>\n",
       "      <td>0.001967</td>\n",
       "      <td>0.020718</td>\n",
       "      <td>-0.004736</td>\n",
       "    </tr>\n",
       "    <tr>\n",
       "      <th>2022-10-04</th>\n",
       "      <td>0.007420</td>\n",
       "      <td>0.040445</td>\n",
       "      <td>0.053735</td>\n",
       "      <td>0.017255</td>\n",
       "    </tr>\n",
       "    <tr>\n",
       "      <th>2022-10-06</th>\n",
       "      <td>0.038885</td>\n",
       "      <td>0.008645</td>\n",
       "      <td>-0.018100</td>\n",
       "      <td>0.026095</td>\n",
       "    </tr>\n",
       "    <tr>\n",
       "      <th>2022-10-07</th>\n",
       "      <td>0.025528</td>\n",
       "      <td>0.020925</td>\n",
       "      <td>-0.004577</td>\n",
       "      <td>-0.001516</td>\n",
       "    </tr>\n",
       "    <tr>\n",
       "      <th>2022-10-10</th>\n",
       "      <td>0.006907</td>\n",
       "      <td>-0.003488</td>\n",
       "      <td>0.001528</td>\n",
       "      <td>0.009063</td>\n",
       "    </tr>\n",
       "  </tbody>\n",
       "</table>\n",
       "<p>439 rows × 4 columns</p>\n",
       "</div>"
      ],
      "text/plain": [
       "             HFCL.BO  MSTCLTD.NS   SJVN.BO  SUBEX.BO\n",
       "Date                                                \n",
       "2021-01-01       NaN         NaN       NaN       NaN\n",
       "2021-01-04  0.037883   -0.005125  0.017735 -0.005213\n",
       "2021-01-05  0.007407   -0.020768  0.005842 -0.003490\n",
       "2021-01-06 -0.012999    0.068973 -0.003891 -0.033781\n",
       "2021-01-07  0.029468   -0.015075  0.005831 -0.020092\n",
       "...              ...         ...       ...       ...\n",
       "2022-10-03  0.014320    0.001967  0.020718 -0.004736\n",
       "2022-10-04  0.007420    0.040445  0.053735  0.017255\n",
       "2022-10-06  0.038885    0.008645 -0.018100  0.026095\n",
       "2022-10-07  0.025528    0.020925 -0.004577 -0.001516\n",
       "2022-10-10  0.006907   -0.003488  0.001528  0.009063\n",
       "\n",
       "[439 rows x 4 columns]"
      ]
     },
     "execution_count": 11,
     "metadata": {},
     "output_type": "execute_result"
    }
   ],
   "source": [
    "sec_return=np.log(sec_data/sec_data.shift(1))\n",
    "sec_return"
   ]
  },
  {
   "cell_type": "markdown",
   "metadata": {},
   "source": [
    "Calculating Standard Deviation"
   ]
  },
  {
   "cell_type": "code",
   "execution_count": 13,
   "metadata": {},
   "outputs": [
    {
     "data": {
      "text/plain": [
       "0.6455168501901009"
      ]
     },
     "execution_count": 13,
     "metadata": {},
     "output_type": "execute_result"
    }
   ],
   "source": [
    "sec_return['HFCL.BO'].mean()\n",
    "sec_return['HFCL.BO'].mean()*250    \n"
   ]
  },
  {
   "cell_type": "code",
   "execution_count": 16,
   "metadata": {},
   "outputs": [
    {
     "data": {
      "text/plain": [
       "0.5958530544559939"
      ]
     },
     "execution_count": 16,
     "metadata": {},
     "output_type": "execute_result"
    }
   ],
   "source": [
    "sec_return['HFCL.BO'].std()\n",
    "sec_return['HFCL.BO'].std()*250**0.5"
   ]
  },
  {
   "cell_type": "code",
   "execution_count": 17,
   "metadata": {},
   "outputs": [
    {
     "name": "stdout",
     "output_type": "stream",
     "text": [
      "0.6455168501901009\n",
      "0.5958530544559939\n"
     ]
    }
   ],
   "source": [
    "print(sec_return['HFCL.BO'].mean()*250)\n",
    "print(sec_return['HFCL.BO'].std()*250**0.5)\n"
   ]
  },
  {
   "cell_type": "code",
   "execution_count": 18,
   "metadata": {},
   "outputs": [
    {
     "name": "stdout",
     "output_type": "stream",
     "text": [
      "0.27987100503818957\n",
      "0.5758615866515446\n"
     ]
    }
   ],
   "source": [
    "print(sec_return['MSTCLTD.NS'].mean()*250)\n",
    "print(sec_return['MSTCLTD.NS'].std()*250**0.5)"
   ]
  },
  {
   "cell_type": "code",
   "execution_count": 19,
   "metadata": {},
   "outputs": [
    {
     "name": "stdout",
     "output_type": "stream",
     "text": [
      "0.22898865309272112\n",
      "0.2524812762496696\n"
     ]
    }
   ],
   "source": [
    "print(sec_return['SJVN.BO'].mean()*250)\n",
    "print(sec_return['SJVN.BO'].std()*250**0.5)"
   ]
  },
  {
   "cell_type": "code",
   "execution_count": 20,
   "metadata": {},
   "outputs": [
    {
     "name": "stdout",
     "output_type": "stream",
     "text": [
      "0.09514248869867971\n",
      "0.6745174155864635\n"
     ]
    }
   ],
   "source": [
    "print(sec_return['SUBEX.BO'].mean()*250)\n",
    "print(sec_return['SUBEX.BO'].std()*250**0.5)"
   ]
  }
 ],
 "metadata": {
  "kernelspec": {
   "display_name": "Python 3.9.12 ('base')",
   "language": "python",
   "name": "python3"
  },
  "language_info": {
   "codemirror_mode": {
    "name": "ipython",
    "version": 3
   },
   "file_extension": ".py",
   "mimetype": "text/x-python",
   "name": "python",
   "nbconvert_exporter": "python",
   "pygments_lexer": "ipython3",
   "version": "3.9.12"
  },
  "orig_nbformat": 4,
  "vscode": {
   "interpreter": {
    "hash": "745acbd60b3d3a97c5945352b8ea4157d78b838f777f5ff9015d2ad09d6a6d28"
   }
  }
 },
 "nbformat": 4,
 "nbformat_minor": 2
}
