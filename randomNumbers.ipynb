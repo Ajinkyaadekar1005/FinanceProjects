{
 "cells": [
  {
   "cell_type": "code",
   "execution_count": 20,
   "metadata": {},
   "outputs": [
    {
     "name": "stdout",
     "output_type": "stream",
     "text": [
      "77\n"
     ]
    }
   ],
   "source": [
    "import random\n",
    "\n",
    "prob = random.randint(1,99)\n",
    "print (prob)\n",
    "\n"
   ]
  },
  {
   "cell_type": "code",
   "execution_count": 7,
   "metadata": {},
   "outputs": [
    {
     "data": {
      "text/plain": [
       "array([[38,  5, 60, 80, 88],\n",
       "       [96, 48, 16, 40,  8],\n",
       "       [63, 82, 47, 74, 41],\n",
       "       [50, 11, 28, 44, 85]])"
      ]
     },
     "execution_count": 7,
     "metadata": {},
     "output_type": "execute_result"
    }
   ],
   "source": [
    "import numpy as np\n",
    "\n",
    "np.random.randint(1,99,(4,5))"
   ]
  }
 ],
 "metadata": {
  "kernelspec": {
   "display_name": "Python 3.9.12 ('base')",
   "language": "python",
   "name": "python3"
  },
  "language_info": {
   "codemirror_mode": {
    "name": "ipython",
    "version": 3
   },
   "file_extension": ".py",
   "mimetype": "text/x-python",
   "name": "python",
   "nbconvert_exporter": "python",
   "pygments_lexer": "ipython3",
   "version": "3.9.12"
  },
  "orig_nbformat": 4,
  "vscode": {
   "interpreter": {
    "hash": "745acbd60b3d3a97c5945352b8ea4157d78b838f777f5ff9015d2ad09d6a6d28"
   }
  }
 },
 "nbformat": 4,
 "nbformat_minor": 2
}
