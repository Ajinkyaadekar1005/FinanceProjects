{
 "cells": [
  {
   "cell_type": "code",
   "execution_count": null,
   "metadata": {},
   "outputs": [],
   "source": [
    "import numpy as np\n",
    "import pandas as pd\n",
    "from pandas_datareader import data as wb\n",
    "import matplotlib.pyplot as plt\n",
    "\n",
    "tickers=['^CNXIT','^IXIC','^BSESN','^GDAXI']\n",
    "mydata=pd.DataFrame()\n",
    "for t in tickers:\n",
    "    mydata[t]=wb.DataReader(t, data_source='yahoo', start='2015-1-1')['Adj Close']\n",
    "\n",
    "sec_return =np.log(mydata/mydata.shift(1))\n"
   ]
  },
  {
   "cell_type": "markdown",
   "metadata": {},
   "source": [
    "ASSIGNING WEIGHTS"
   ]
  },
  {
   "cell_type": "code",
   "execution_count": null,
   "metadata": {},
   "outputs": [],
   "source": [
    "weights= np.array([0.5,0.2,0.2,0.1])"
   ]
  },
  {
   "cell_type": "markdown",
   "metadata": {},
   "source": [
    "CALCULATING DIVERSIFIABLE RISK:\n",
    "\n",
    "[DIVERSIFIABLE RISK = PORTFOLIO VARIANCE - WEIGHTED ANNUAL VARIANCE]"
   ]
  },
  {
   "cell_type": "code",
   "execution_count": 19,
   "metadata": {},
   "outputs": [
    {
     "name": "stdout",
     "output_type": "stream",
     "text": [
      "Nifty IT annual variance: 1.867074901285832\n",
      "NASDAQ annual variance: 0.0566501300655009\n",
      "BSE annual variance: 0.035469353853257515\n",
      "DAX annual variance: 0.04788333765026626\n",
      "Diversifiable risk of the portfolio is : 0.04501156763021552\n"
     ]
    }
   ],
   "source": [
    "pfolio_var= np.dot(weights.T, np.dot(sec_return.cov()*250,weights))\n",
    "\n",
    "float(IT_var_a)\n",
    "IT_var_a= sec_return['^CNXIT'].var()*250\n",
    "print(\"Nifty IT annual variance:\", IT_var_a)\n",
    "\n",
    "float(ND_var_a)\n",
    "ND_var_a= sec_return['^IXIC'].var()*250\n",
    "print(\"NASDAQ annual variance:\", ND_var_a)\n",
    "\n",
    "float(BSE_var_a)\n",
    "BSE_var_a= sec_return['^BSESN'].var()*250\n",
    "print(\"BSE annual variance:\", BSE_var_a)\n",
    "\n",
    "float(DAX_var_a)\n",
    "DAX_var_a= sec_return['^GDAXI'].var()*250\n",
    "print(\"DAX annual variance:\", DAX_var_a)\n",
    "\n",
    "dirversifiable_risk = pfolio_var - (weights[0]**2*IT_var_a) - (weights[1]**2*ND_var_a) - (weights[2]**2*BSE_var_a) -(weights[3]**2*DAX_var_a)\n",
    "print(\"Diversifiable risk of the portfolio is :\", dirversifiable_risk)"
   ]
  },
  {
   "cell_type": "markdown",
   "metadata": {},
   "source": [
    "DIVERSIFIABLE RISK"
   ]
  },
  {
   "cell_type": "code",
   "execution_count": 25,
   "metadata": {},
   "outputs": [
    {
     "name": "stdout",
     "output_type": "stream",
     "text": [
      "Noniversifiable risk of the portfolio is : 0.470932338054711\n",
      "Noniversifiable risk of the portfolio is : 0.462605112588205\n"
     ]
    },
    {
     "data": {
      "text/plain": [
       "False"
      ]
     },
     "execution_count": 25,
     "metadata": {},
     "output_type": "execute_result"
    }
   ],
   "source": [
    "nondirversifiable_risk1 = pfolio_var-dirversifiable_risk\n",
    "print(\"Noniversifiable risk of the portfolio is :\", nondirversifiable_risk1)\n",
    "\n",
    "\n",
    "nondirversifiable_risk2 = (weights[0]**2*IT_var_a) - (weights[1]**2*ND_var_a) - (weights[2]**2*BSE_var_a) -(weights[3]**2*DAX_var_a)\n",
    "print(\"Noniversifiable risk of the portfolio is :\", nondirversifiable_risk2)\n",
    "\n",
    "nondirversifiable_risk1 == nondirversifiable_risk2"
   ]
  }
 ],
 "metadata": {
  "kernelspec": {
   "display_name": "Python 3.9.12 ('base')",
   "language": "python",
   "name": "python3"
  },
  "language_info": {
   "codemirror_mode": {
    "name": "ipython",
    "version": 3
   },
   "file_extension": ".py",
   "mimetype": "text/x-python",
   "name": "python",
   "nbconvert_exporter": "python",
   "pygments_lexer": "ipython3",
   "version": "3.9.12"
  },
  "orig_nbformat": 4,
  "vscode": {
   "interpreter": {
    "hash": "745acbd60b3d3a97c5945352b8ea4157d78b838f777f5ff9015d2ad09d6a6d28"
   }
  }
 },
 "nbformat": 4,
 "nbformat_minor": 2
}
